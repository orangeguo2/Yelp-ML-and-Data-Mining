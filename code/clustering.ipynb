{
 "cells": [
  {
   "cell_type": "code",
   "execution_count": 1,
   "metadata": {
    "collapsed": true
   },
   "outputs": [],
   "source": [
    "## import package here\n",
    "## If IDE is used, please make sure the \n",
    "## pakage is also included in your project interpreter\n",
    "\n",
    "\n",
    "## connect to database\n",
    "## make sure the MySQL database is running\n",
    "## please change the user and password to yours\n",
    "## please establish new database yelp_db for the first time\n"
   ]
  },
  {
   "cell_type": "code",
   "execution_count": 2,
   "metadata": {
    "collapsed": true
   },
   "outputs": [
    {
     "name": "stderr",
     "output_type": "stream",
     "text": [
      "/usr/local/Cellar/python/3.6.5_1/Frameworks/Python.framework/Versions/3.6/lib/python3.6/importlib/_bootstrap.py:219: RuntimeWarning: numpy.dtype size changed, may indicate binary incompatibility. Expected 96, got 88\n  return f(*args, **kwds)\n"
     ]
    }
   ],
   "source": [
    "import pandas as pd\n",
    "import numpy as np\n",
    "import sklearn\n",
    "\n",
    "import matplotlib.pyplot as plt\n",
    "%matplotlib inline\n",
    "import warnings\n",
    "warnings.filterwarnings('ignore')\n",
    "import mysql.connector\n",
    "from collections import OrderedDict\n",
    "connection = mysql.connector.connect(\n",
    "    user='root',\n",
    "    password='qiuran1223',\n",
    "    host='127.0.0.1',\n",
    "    port=3306,\n",
    "    database='yelp_db')\n"
   ]
  },
  {
   "cell_type": "code",
   "execution_count": 3,
   "metadata": {},
   "outputs": [],
   "source": [
    "data = pd.read_sql('''select business.id, business.name, business.neighborhood, business.city, business.latitude, business.longitude, category.category\n",
    "  FROM category\n",
    "  inner join business on\n",
    "  business.id = category.business_id\n",
    "  WHERE business.city =\"Las Vegas\"\n",
    "  and neighborhood IS NOT NULL\n",
    "  and category.category = \"Italian\" or category.category = \"Mexican\" or category.category = \"American (New)\"\n",
    "  or category.category = \"Chinese\" or category.category = \"Korean\" or category.category = \"Japanese\"\n",
    "  or category.category = \"Barbeque\" or category.category = \"Thai\" or category.category = \"Mediterranean\"\n",
    "  GROUP BY business.id, category.category''',connection) "
   ]
  },
  {
   "cell_type": "code",
   "execution_count": 4,
   "metadata": {},
   "outputs": [
    {
     "data": {
      "text/plain": [
       "['Southeast',\n 'Spring Valley',\n 'Westside',\n 'Anthem',\n 'Centennial',\n 'The Strip',\n 'Eastside',\n '',\n 'Downtown',\n 'Sunrise',\n 'Northwest',\n 'Chinatown',\n 'Southwest',\n 'Summerlin',\n 'University',\n 'The Lakes',\n 'South Summerlin']"
      ]
     },
     "execution_count": 4,
     "metadata": {},
     "output_type": "execute_result"
    }
   ],
   "source": [
    "from sklearn.cluster import KMeans\n",
    "cluster_table = data.loc[data['city'] == 'Las Vegas']\n",
    "cluster_table = cluster_table[['latitude','longitude','neighborhood','category']]\n",
    "neighborhoods = cluster_table.neighborhood.unique()\n",
    "list(neighborhoods)"
   ]
  },
  {
   "cell_type": "code",
   "execution_count": 5,
   "metadata": {},
   "outputs": [],
   "source": [
    "cluster_table = cluster_table[cluster_table.neighborhood!='University']\n",
    "cluster_table = cluster_table[cluster_table.neighborhood!='']\n",
    "cluster_table = cluster_table[cluster_table.neighborhood!='Chinatown']\n",
    "neighborhoods = cluster_table.neighborhood.unique()\n",
    "neighborhoods = list(neighborhoods)\n"
   ]
  },
  {
   "cell_type": "code",
   "execution_count": 6,
   "metadata": {},
   "outputs": [],
   "source": [
    "stringStore=np.empty(14, dtype=str)\n",
    "\n",
    "for i in range(0,14):\n",
    "    stringStore[i]=neighborhoods[i]\n",
    "    cluster_table['neighborhood'].replace(neighborhoods[i], i, inplace=True)"
   ]
  },
  {
   "cell_type": "code",
   "execution_count": 7,
   "metadata": {},
   "outputs": [
    {
     "data": {
      "text/plain": [
       "Mexican           590\nAmerican (New)    507\nItalian           337\nChinese           276\nJapanese          251\nBarbeque          150\nThai              114\nMediterranean     100\nKorean             58\nName: category, dtype: int64"
      ]
     },
     "execution_count": 7,
     "metadata": {},
     "output_type": "execute_result"
    }
   ],
   "source": [
    "categoriesPre = cluster_table.category.value_counts()\n",
    "categories = list(categoriesPre.index)\n",
    "categoriesPre"
   ]
  },
  {
   "cell_type": "code",
   "execution_count": 8,
   "metadata": {},
   "outputs": [
    {
     "data": {
      "text/plain": [
       "['Mexican',\n 'American (New)',\n 'Italian',\n 'Chinese',\n 'Japanese',\n 'Barbeque',\n 'Thai',\n 'Mediterranean',\n 'Korean']"
      ]
     },
     "execution_count": 8,
     "metadata": {},
     "output_type": "execute_result"
    }
   ],
   "source": [
    "categories\n"
   ]
  },
  {
   "cell_type": "code",
   "execution_count": 9,
   "metadata": {},
   "outputs": [],
   "source": [
    "\n",
    "\n",
    "\n",
    "stringCat=np.empty(9, dtype=str)\n",
    "stringfull=np.empty(9, dtype=\"S15\")\n",
    "\n",
    "for i in range(0,9):\n",
    "    stringCat[i]= categories[i]\n",
    "    stringfull[i] = categories[i]\n",
    "    cluster_table['category'].replace(categories[i], i, inplace=True)\n"
   ]
  },
  {
   "cell_type": "code",
   "execution_count": 10,
   "metadata": {},
   "outputs": [],
   "source": [
    "df = cluster_table[['latitude','longitude','category','neighborhood']].copy()\n",
    "df[['latitude','longitude']] = (df[['latitude','longitude']].sub(df[['latitude','longitude']].mean())).divide(df[['latitude','longitude']].std())\n",
    "for i in range(0,9):\n",
    "    df['category'].replace(i, stringCat[i], inplace=True)\n",
    "\n"
   ]
  },
  {
   "cell_type": "code",
   "execution_count": 11,
   "metadata": {},
   "outputs": [],
   "source": [
    "def topCategories(categoryList):\n",
    "    n = []\n",
    "    for i in categoryList:\n",
    "         n += [i.split(',')]   \n",
    "    count={}\n",
    "    for i in n:\n",
    "        for j in i:\n",
    "            if j not in count:\n",
    "                count[j]=1\n",
    "            else:\n",
    "                count[j] = count[j] +1\n",
    "    return OrderedDict(sorted(count.items(), key=lambda a:a[1], reverse=True))  \n"
   ]
  },
  {
   "cell_type": "code",
   "execution_count": 12,
   "metadata": {},
   "outputs": [],
   "source": [
    " \n",
    "topDf = df.copy()\n",
    "categoryList = df['category'].tolist()\n",
    "top = list(topCategories(categoryList))[0:10]\n",
    "topCatNames=[]\n",
    "topCatNames = top\n"
   ]
  },
  {
   "cell_type": "code",
   "execution_count": 13,
   "metadata": {},
   "outputs": [],
   "source": [
    "\n",
    "c =[]\n",
    "def convert(j):\n",
    "    for i in top:\n",
    "        if(i == j):\n",
    "            return(top.index(i)+1)\n"
   ]
  },
  {
   "cell_type": "code",
   "execution_count": 14,
   "metadata": {},
   "outputs": [],
   "source": [
    "\n",
    "for i in df['category']:\n",
    "    row = i.split(',')\n",
    "    c += [[convert(j) for j in row if j in top]]\n",
    "topDf['category'] = c\n",
    "topDf = topDf.reset_index(drop = True)\n",
    "a = np.zeros(shape=(len(topDf['category']),9))\n",
    "i=0\n",
    "for j in c:\n",
    "    for k in j:\n",
    "        a[i,k-1]=1\n",
    "    i+=1\n",
    "top = pd.DataFrame.from_records(a)\n",
    "top[['latitude','longitude']] = topDf[['latitude','longitude']]\n"
   ]
  },
  {
   "cell_type": "code",
   "execution_count": 15,
   "metadata": {},
   "outputs": [
    {
     "data": {
      "text/plain": [
       "'A'"
      ]
     },
     "execution_count": 15,
     "metadata": {},
     "output_type": "execute_result"
    }
   ],
   "source": [
    "stringCat[1]\n",
    "\n"
   ]
  },
  {
   "cell_type": "code",
   "execution_count": 16,
   "metadata": {},
   "outputs": [
    {
     "data": {
      "text/plain": [
       "Text(0,0.5,'error')"
      ]
     },
     "execution_count": 16,
     "metadata": {},
     "output_type": "execute_result"
    },
    {
     "data": {
      "image/png": "[encoded data removed]",
      "text/plain": [
       "<Figure size 432x288 with 1 Axes>"
      ]
     },
     "metadata": {},
     "output_type": "display_data"
    }
   ],
   "source": [
    "\n",
    "n = 9\n",
    "\n",
    "error = np.zeros(n)\n",
    "error[0] = 0;\n",
    "for k in range(1,n):\n",
    "    kmeans = KMeans(init='k-means++', n_clusters=k,n_init=10)\n",
    "    kmeans.fit_predict(top)\n",
    "    error[k] = kmeans.inertia_\n",
    "plt.figure(1)\n",
    "plt.plot(range(1,len(error)),error[1:])\n",
    "plt.xlabel('number of clusters')\n",
    "plt.ylabel('error')\n"
   ]
  },
  {
   "cell_type": "code",
   "execution_count": 17,
   "metadata": {},
   "outputs": [
    {
     "name": "stdout",
     "output_type": "stream",
     "text": [
      "the silhouette score is\n0.27073199724131664\ncalinski_harabaz_score\n844.3707871472009\n"
     ]
    }
   ],
   "source": [
    "from sklearn.metrics import silhouette_score\n",
    "from sklearn import metrics\n",
    "kmeans = KMeans(init='k-means++', n_clusters=4, n_init=100) \n",
    "km = kmeans.fit_predict(top)\n",
    "labels = kmeans.labels_\n",
    "print(\"the silhouette score is\")\n",
    "print(silhouette_score(top, labels, metric='euclidean'))\n",
    "print(\"calinski_harabaz_score\")\n",
    "print(metrics.calinski_harabaz_score(top, labels) )"
   ]
  },
  {
   "cell_type": "code",
   "execution_count": 18,
   "metadata": {},
   "outputs": [],
   "source": [
    "\n",
    "    \n",
    "\n",
    "        \n",
    "def labels(cluster):\n",
    "    count = {}\n",
    "    for i in cluster[0]:\n",
    "        for j in topDf['category'][i]:\n",
    "            if j not in count:\n",
    "                count[j] = 1\n",
    "            else:\n",
    "                count[j] +=1\n",
    "    return OrderedDict(sorted(count.items(), key=lambda kv:kv[1], reverse=True))\n",
    "\n"
   ]
  },
  {
   "cell_type": "code",
   "execution_count": 19,
   "metadata": {},
   "outputs": [],
   "source": [
    "topCounts = list(topCategories(categoryList).values())[0:10]\n",
    "labelsKm = []\n",
    "km0 = np.where(km==0)\n",
    "lc = labels(km0)\n"
   ]
  },
  {
   "cell_type": "code",
   "execution_count": 20,
   "metadata": {},
   "outputs": [],
   "source": [
    "def clusterLabel(lc,topCounts):\n",
    "    maxx = 0\n",
    "    \n",
    "    for key,value in lc.items():\n",
    "        temp = value/topCounts[key-1]\n",
    "        if(temp>maxx):\n",
    "            maxx = temp\n",
    "            index = key-1\n",
    "    return categories[index]"
   ]
  },
  {
   "cell_type": "code",
   "execution_count": 21,
   "metadata": {},
   "outputs": [
    {
     "data": {
      "text/plain": [
       "OrderedDict([(1, 72),\n             (2, 36),\n             (3, 33),\n             (4, 31),\n             (5, 24),\n             (6, 17),\n             (7, 13),\n             (8, 5)])"
      ]
     },
     "execution_count": 21,
     "metadata": {},
     "output_type": "execute_result"
    }
   ],
   "source": [
    "\n",
    "labelsKm.append(clusterLabel(lc, topCounts))\n",
    "labels(km0)\n"
   ]
  },
  {
   "cell_type": "code",
   "execution_count": 22,
   "metadata": {},
   "outputs": [
    {
     "data": {
      "text/plain": [
       "['Thai', 'Mediterranean', 'Barbeque', 'American (New)']"
      ]
     },
     "execution_count": 22,
     "metadata": {},
     "output_type": "execute_result"
    }
   ],
   "source": [
    "\n",
    "km1 = np.where(km==1)\n",
    "lc = labels(km1)\n",
    "labelsKm.append(clusterLabel(lc, topCounts))\n",
    "\n",
    "km2 = np.where(km==2)\n",
    "lc = labels(km2)\n",
    "labelsKm.append(clusterLabel(lc, topCounts))\n",
    "\n",
    "km3 = np.where(km==3)\n",
    "lc = labels(km3)\n",
    "labelsKm.append(clusterLabel(lc, topCounts))\n",
    "labelsKm\n"
   ]
  },
  {
   "cell_type": "code",
   "execution_count": 23,
   "metadata": {},
   "outputs": [],
   "source": [
    "clusters = [km0,km1,km2,km3] # ,km2,km3,km4,km5\n"
   ]
  },
  {
   "cell_type": "code",
   "execution_count": 24,
   "metadata": {},
   "outputs": [],
   "source": [
    "\n",
    "def createScatter(clusters):\n",
    "    colors = ['red','orange','yellow','green','blue','purple','cyan','magenta','black','#9BF591',\n",
    "             '#A34830','#6888CD','#03F1F6','#1A605E','#B8393C','#59BE80']\n",
    "    x = 0\n",
    "    for i in clusters:\n",
    "        for j in i:\n",
    "            plt.scatter(top['longitude'][j],top['latitude'][j], color=colors[x]) #org: lat, long\n",
    "        x=x+1\n"
   ]
  },
  {
   "cell_type": "code",
   "execution_count": 25,
   "metadata": {},
   "outputs": [],
   "source": [
    "def createCentroids(centroids):\n",
    "    y = 0  \n",
    "    for i in centroids:\n",
    "        plt.scatter(i[10],i[9],s=50,c='black',marker='*',linewidth=2)\n",
    "        plt.annotate(labelsKm[y],xy=(i[10],i[9]))\n",
    "        y+=1\n"
   ]
  },
  {
   "cell_type": "code",
   "execution_count": 26,
   "metadata": {},
   "outputs": [
    {
     "data": {
      "image/png": "[encoded data removed]",
      "text/plain": [
       "<Figure size 432x288 with 1 Axes>"
      ]
     },
     "metadata": {},
     "output_type": "display_data"
    }
   ],
   "source": [
    "\n",
    "createScatter(clusters)\n",
    "createCentroids(kmeans.cluster_centers_)\n",
    "\n",
    "plt.title('KMeans')\n",
    "plt.xlabel('longitude') \n",
    "plt.ylabel('latitude')\n",
    "legend = plt.legend([labelsKm[i] for i in range(len(labelsKm))],bbox_to_anchor=(1.05, 1),\n",
    "                    loc=2, borderaxespad=0.,fontsize=15)\n",
    "\n",
    "plt.savefig('kmeans_cuisines.pdf', bbox_extra_artists=(legend,), bbox_inches='tight')\n",
    "plt.show()\n"
   ]
  },
  {
   "cell_type": "code",
   "execution_count": 27,
   "metadata": {},
   "outputs": [
    {
     "data": {
      "image/png": "[encoded data removed]",
      "text/plain": [
       "<Figure size 432x288 with 1 Axes>"
      ]
     },
     "metadata": {},
     "output_type": "display_data"
    }
   ],
   "source": [
    "from sklearn import mixture\n",
    "labelsGmm=[]\n",
    "gmm = mixture.GMM(n_components=9,covariance_type='spherical')\n",
    "gmm.fit(top)\n",
    "gaussian = gmm.predict(top)\n",
    "g0 = np.where(gaussian==0)\n",
    "x= labels(g0)\n",
    "labelsGmm.append(clusterLabel(x, topCounts))\n",
    "g1 = np.where(gaussian==1)\n",
    "x= labels(g1)\n",
    "labelsGmm.append(clusterLabel(x, topCounts))\n",
    "g2 = np.where(gaussian==2)\n",
    "x= labels(g2)\n",
    "labelsGmm.append(clusterLabel(x, topCounts))\n",
    "g3 = np.where(gaussian==3)\n",
    "x = labels(g3)\n",
    "labelsGmm.append(clusterLabel(x, topCounts))\n",
    "g4 = np.where(gaussian==4)\n",
    "x = labels(g4)\n",
    "labelsGmm.append(clusterLabel(x, topCounts))\n",
    "g5 = np.where(gaussian==5)\n",
    "x = labels(g5)\n",
    "labelsGmm.append(clusterLabel(x, topCounts))\n",
    "\n",
    "g6 = np.where(gaussian==6)\n",
    "x = labels(g6)\n",
    "labelsGmm.append(clusterLabel(x, topCounts))\n",
    "\n",
    "g7 = np.where(gaussian==7)\n",
    "x = labels(g7)\n",
    "labelsGmm.append(clusterLabel(x, topCounts))\n",
    "\n",
    "g8 = np.where(gaussian==8)\n",
    "x = labels(g8)\n",
    "labelsGmm.append(clusterLabel(x, topCounts))\n",
    "\n",
    "\n",
    "\n",
    "clustersGmm = [g0,g1,g2,g3,g4,g5,g6,g7,g8] \n",
    "createScatter(clustersGmm)\n",
    "plt.title('GMM')\n",
    "plt.xlabel('longitude') \n",
    "plt.ylabel('latitude') \n",
    "legend = plt.legend([labelsGmm[i] \n",
    "                     for i in range(len(labelsGmm))],\n",
    "                    bbox_to_anchor=(1.05, 1), loc=2, \n",
    "                    borderaxespad=0.,fontsize=15)\n",
    "plt.show()"
   ]
  },
  {
   "cell_type": "code",
   "execution_count": 28,
   "metadata": {},
   "outputs": [],
   "source": []
  }
 ],
 "metadata": {
  "kernelspec": {
   "display_name": "Python 2",
   "language": "python",
   "name": "python2"
  },
  "language_info": {
   "codemirror_mode": {
    "name": "ipython",
    "version": 2
   },
   "file_extension": ".py",
   "mimetype": "text/x-python",
   "name": "python",
   "nbconvert_exporter": "python",
   "pygments_lexer": "ipython2",
   "version": "2.7.6"
  }
 },
 "nbformat": 4,
 "nbformat_minor": 0
}
